{
 "cells": [
  {
   "cell_type": "markdown",
   "id": "c1f5ce9a",
   "metadata": {},
   "source": [
    "# Diabetes Prediction"
   ]
  },
  {
   "cell_type": "markdown",
   "id": "0ca37415",
   "metadata": {},
   "source": [
    "### Aim : To predict whether a person has diabetes or not using classification algorithms."
   ]
  },
  {
   "cell_type": "markdown",
   "id": "3e37601e",
   "metadata": {},
   "source": [
    "### Dataset link : https://www.kaggle.com/datasets/mathchi/diabetes-data-set/"
   ]
  },
  {
   "cell_type": "code",
   "execution_count": 20,
   "id": "462ae23d",
   "metadata": {},
   "outputs": [
    {
     "data": {
      "text/html": [
       "<div>\n",
       "<style scoped>\n",
       "    .dataframe tbody tr th:only-of-type {\n",
       "        vertical-align: middle;\n",
       "    }\n",
       "\n",
       "    .dataframe tbody tr th {\n",
       "        vertical-align: top;\n",
       "    }\n",
       "\n",
       "    .dataframe thead th {\n",
       "        text-align: right;\n",
       "    }\n",
       "</style>\n",
       "<table border=\"1\" class=\"dataframe\">\n",
       "  <thead>\n",
       "    <tr style=\"text-align: right;\">\n",
       "      <th></th>\n",
       "      <th>Pregnancies</th>\n",
       "      <th>Glucose</th>\n",
       "      <th>BloodPressure</th>\n",
       "      <th>SkinThickness</th>\n",
       "      <th>Insulin</th>\n",
       "      <th>BMI</th>\n",
       "      <th>DiabetesPedigreeFunction</th>\n",
       "      <th>Age</th>\n",
       "      <th>Outcome</th>\n",
       "    </tr>\n",
       "  </thead>\n",
       "  <tbody>\n",
       "    <tr>\n",
       "      <th>0</th>\n",
       "      <td>6</td>\n",
       "      <td>148</td>\n",
       "      <td>72</td>\n",
       "      <td>35</td>\n",
       "      <td>0</td>\n",
       "      <td>33.6</td>\n",
       "      <td>0.627</td>\n",
       "      <td>50</td>\n",
       "      <td>1</td>\n",
       "    </tr>\n",
       "    <tr>\n",
       "      <th>1</th>\n",
       "      <td>1</td>\n",
       "      <td>85</td>\n",
       "      <td>66</td>\n",
       "      <td>29</td>\n",
       "      <td>0</td>\n",
       "      <td>26.6</td>\n",
       "      <td>0.351</td>\n",
       "      <td>31</td>\n",
       "      <td>0</td>\n",
       "    </tr>\n",
       "    <tr>\n",
       "      <th>2</th>\n",
       "      <td>8</td>\n",
       "      <td>183</td>\n",
       "      <td>64</td>\n",
       "      <td>0</td>\n",
       "      <td>0</td>\n",
       "      <td>23.3</td>\n",
       "      <td>0.672</td>\n",
       "      <td>32</td>\n",
       "      <td>1</td>\n",
       "    </tr>\n",
       "    <tr>\n",
       "      <th>3</th>\n",
       "      <td>1</td>\n",
       "      <td>89</td>\n",
       "      <td>66</td>\n",
       "      <td>23</td>\n",
       "      <td>94</td>\n",
       "      <td>28.1</td>\n",
       "      <td>0.167</td>\n",
       "      <td>21</td>\n",
       "      <td>0</td>\n",
       "    </tr>\n",
       "    <tr>\n",
       "      <th>4</th>\n",
       "      <td>0</td>\n",
       "      <td>137</td>\n",
       "      <td>40</td>\n",
       "      <td>35</td>\n",
       "      <td>168</td>\n",
       "      <td>43.1</td>\n",
       "      <td>2.288</td>\n",
       "      <td>33</td>\n",
       "      <td>1</td>\n",
       "    </tr>\n",
       "  </tbody>\n",
       "</table>\n",
       "</div>"
      ],
      "text/plain": [
       "   Pregnancies  Glucose  BloodPressure  SkinThickness  Insulin   BMI  \\\n",
       "0            6      148             72             35        0  33.6   \n",
       "1            1       85             66             29        0  26.6   \n",
       "2            8      183             64              0        0  23.3   \n",
       "3            1       89             66             23       94  28.1   \n",
       "4            0      137             40             35      168  43.1   \n",
       "\n",
       "   DiabetesPedigreeFunction  Age  Outcome  \n",
       "0                     0.627   50        1  \n",
       "1                     0.351   31        0  \n",
       "2                     0.672   32        1  \n",
       "3                     0.167   21        0  \n",
       "4                     2.288   33        1  "
      ]
     },
     "metadata": {},
     "output_type": "display_data"
    }
   ],
   "source": [
    "\n",
    "import numpy as np\n",
    "import pandas as pd\n",
    "from time import time\n",
    "from IPython.display import display\n",
    "import matplotlib.pyplot as plt\n",
    "import sklearn\n",
    "import joblib\n",
    "\n",
    "%matplotlib inline \n",
    "\n",
    "data = pd.read_csv(r\"D:\\Firespiko\\diabetes_prediction_app\\data\\diabetes.csv\")\n",
    "\n",
    "display(data.head())"
   ]
  },
  {
   "cell_type": "markdown",
   "id": "f3014225",
   "metadata": {},
   "source": [
    "Explore the data and note down the ranges for each column(helps in identifying outliers)"
   ]
  },
  {
   "cell_type": "code",
   "execution_count": 21,
   "id": "2173223a",
   "metadata": {},
   "outputs": [
    {
     "name": "stdout",
     "output_type": "stream",
     "text": [
      "Range of the Pregnancies column is 0 to 17\n",
      "Range of the Glucose column is 0 to 199\n",
      "Range of the BloodPressure column is 0 to 122\n",
      "Range of the SkinThickness column is 0 to 99\n",
      "Range of the Insulin column is 0 to 846\n",
      "Range of the BMI column is 0.0 to 67.1\n",
      "Range of the DiabetesPedigreeFunction column is 0.078 to 2.342\n",
      "Range of the Age column is 21 to 60\n",
      "Range of the Outcome column is 0 to 1\n"
     ]
    }
   ],
   "source": [
    "for i in data.columns:\n",
    "    print(\"Range of the {} column is {} to {}\".format(i,str(data[i].min()),str(data[i].max() - data[i].min())))"
   ]
  },
  {
   "cell_type": "markdown",
   "id": "84a1f152",
   "metadata": {},
   "source": [
    "## Preparing Data"
   ]
  },
  {
   "cell_type": "code",
   "execution_count": 22,
   "id": "9641e550",
   "metadata": {},
   "outputs": [
    {
     "name": "stdout",
     "output_type": "stream",
     "text": [
      "The number of missing values of Pregnancies column is 0\n",
      "The number of missing values of Glucose column is 0\n",
      "The number of missing values of BloodPressure column is 0\n",
      "The number of missing values of SkinThickness column is 0\n",
      "The number of missing values of Insulin column is 0\n",
      "The number of missing values of BMI column is 0\n",
      "The number of missing values of DiabetesPedigreeFunction column is 0\n",
      "The number of missing values of Age column is 0\n",
      "The number of missing values of Outcome column is 0\n"
     ]
    }
   ],
   "source": [
    "#Filling missing values\n",
    "for i in data.columns:\n",
    "    print(\"The number of missing values of {} column is {}\".format(i,data[i].isnull().sum()))\n"
   ]
  },
  {
   "cell_type": "code",
   "execution_count": 23,
   "id": "958b2d54",
   "metadata": {},
   "outputs": [
    {
     "name": "stdout",
     "output_type": "stream",
     "text": [
      "The number of missing values in thickness column is: 227 \n",
      "The number of missing values in thickness column is: 374 \n"
     ]
    }
   ],
   "source": [
    "#Calculating the number of missing values in the dataset\n",
    "print(\"The number of missing values in thickness column is: {} \".format((data['SkinThickness'] == 0).sum()))\n",
    "\n",
    "print(\"The number of missing values in thickness column is: {} \".format((data['Insulin'] == 0).sum()))"
   ]
  },
  {
   "cell_type": "code",
   "execution_count": 24,
   "id": "60941d18",
   "metadata": {},
   "outputs": [],
   "source": [
    "#Replacing the missing values with 0\n",
    "\n",
    "data['SkinThickness'].replace(to_replace = 0,value = data['SkinThickness'].mean(),inplace = True)\n",
    "data['Insulin'].replace(to_replace = 0,value = data['Insulin'].mean(),inplace = True)"
   ]
  },
  {
   "cell_type": "code",
   "execution_count": 25,
   "id": "aabb2cbc",
   "metadata": {},
   "outputs": [
    {
     "name": "stdout",
     "output_type": "stream",
     "text": [
      "0\n",
      "0\n"
     ]
    }
   ],
   "source": [
    "#Checking if the values are zero\n",
    "print((data['SkinThickness'] == 0).sum())\n",
    "print((data['Insulin'] == 0).sum())"
   ]
  },
  {
   "cell_type": "code",
   "execution_count": 26,
   "id": "e3dcc82a",
   "metadata": {},
   "outputs": [
    {
     "name": "stdout",
     "output_type": "stream",
     "text": [
      "Total number of people with diabetes is 268\n",
      "Total number of people not having diabetes is 500\n",
      "Percentage of people having diabetes is 0.3489583333333333\n",
      "Odds of having diabetes is 0.536\n"
     ]
    }
   ],
   "source": [
    "print(\"Total number of people with diabetes is {}\".format((data['Outcome'] == 1).sum()))\n",
    "print(\"Total number of people not having diabetes is {}\".format((data['Outcome'] == 0).sum()))\n",
    "print(\"Percentage of people having diabetes is {}\".format((data['Outcome'] == 1).sum()/data.shape[0]))\n",
    "print(\"Odds of having diabetes is {}\".format(((data['Outcome'] == 1).sum()/(data['Outcome'] == 0).sum())))\n",
    "\n",
    "#Imbalanced dataset"
   ]
  },
  {
   "cell_type": "code",
   "execution_count": 27,
   "id": "69ddc786",
   "metadata": {},
   "outputs": [
    {
     "data": {
      "image/png": "[encoded data removed]",
      "text/plain": [
       "<Figure size 1100x500 with 2 Axes>"
      ]
     },
     "metadata": {},
     "output_type": "display_data"
    }
   ],
   "source": [
    "#Splitting the data\n",
    "outcome_r = data['Outcome']\n",
    "feature_r = data.drop(columns = ['Outcome'],axis = 1)\n",
    "\n",
    "#Making a figure subplot\n",
    "fig = plt.figure(figsize = (11,5))\n",
    "\n",
    "for i,feature in enumerate(['SkinThickness','Insulin']):\n",
    "    ax = fig.add_subplot(1,2,i+1)\n",
    "    ax.hist(data[feature] , bins=25, color = '#00A0A0')\n",
    "    ax.set_title(\"'{}' feature distribution\".format(feature),fontsize = 16)\n",
    "    ax.set_xlabel('Value')\n",
    "    ax.set_ylabel('Number of records')"
   ]
  },
  {
   "cell_type": "code",
   "execution_count": 28,
   "id": "0e7bbcaf",
   "metadata": {},
   "outputs": [],
   "source": [
    "def distribution(data,transformed = False):\n",
    "    \"\"\"\n",
    "    Function for visualising the data\n",
    "    \"\"\"\n",
    "    fig = plt.figure(figsize = (11,5))\n",
    "    \n",
    "    for i,feature in enumerate(['SkinThickness','Insulin']):\n",
    "        ax = fig.add_subplot(1, 2, i + 1)\n",
    "        ax.hist(data[feature] , bins = 25, color = '#00A0A0')\n",
    "        ax.set_title(\"'{}' feature distribution\".format(feature), fontsize = 16)\n",
    "        ax.set_xlabel('Value')\n",
    "        ax.set_ylabel('Number of records')\n",
    "        \n",
    "    if transformed:\n",
    "        fig.suptitle(\"Log transformed distribution\",fontsize = 16,y = 1.03)\n",
    "    else:\n",
    "        fig.suptitle(\"Skewed distribution\",fontsize = 16,y = 1.03)\n",
    "    \n",
    "    fig.tight_layout()\n",
    "    fig.show()"
   ]
  },
  {
   "cell_type": "code",
   "execution_count": 29,
   "id": "9d712ab0",
   "metadata": {},
   "outputs": [
    {
     "name": "stderr",
     "output_type": "stream",
     "text": [
      "C:\\Users\\KK COMPUTERS\\AppData\\Local\\Temp\\ipykernel_14984\\2205794827.py:20: UserWarning: Matplotlib is currently using module://matplotlib_inline.backend_inline, which is a non-GUI backend, so cannot show the figure.\n",
      "  fig.show()\n"
     ]
    },
    {
     "data": {
      "image/png": "[encoded data removed]",
      "text/plain": [
       "<Figure size 1100x500 with 2 Axes>"
      ]
     },
     "metadata": {},
     "output_type": "display_data"
    }
   ],
   "source": [
    "#Applying log transformation for skewed data\n",
    "\n",
    "skewed = ['SkinThickness','Insulin']\n",
    "features_log_transformed = pd.DataFrame(data = feature_r)\n",
    "features_log_transformed[skewed] = feature_r[skewed].apply(lambda x: np.log(x + 1))\n",
    "\n",
    "distribution(features_log_transformed,transformed = True)"
   ]
  },
  {
   "cell_type": "code",
   "execution_count": 30,
   "id": "94368dc5",
   "metadata": {},
   "outputs": [
    {
     "data": {
      "text/html": [
       "<div>\n",
       "<style scoped>\n",
       "    .dataframe tbody tr th:only-of-type {\n",
       "        vertical-align: middle;\n",
       "    }\n",
       "\n",
       "    .dataframe tbody tr th {\n",
       "        vertical-align: top;\n",
       "    }\n",
       "\n",
       "    .dataframe thead th {\n",
       "        text-align: right;\n",
       "    }\n",
       "</style>\n",
       "<table border=\"1\" class=\"dataframe\">\n",
       "  <thead>\n",
       "    <tr style=\"text-align: right;\">\n",
       "      <th></th>\n",
       "      <th>Pregnancies</th>\n",
       "      <th>Glucose</th>\n",
       "      <th>BloodPressure</th>\n",
       "      <th>SkinThickness</th>\n",
       "      <th>Insulin</th>\n",
       "      <th>BMI</th>\n",
       "      <th>DiabetesPedigreeFunction</th>\n",
       "      <th>Age</th>\n",
       "    </tr>\n",
       "  </thead>\n",
       "  <tbody>\n",
       "    <tr>\n",
       "      <th>0</th>\n",
       "      <td>6</td>\n",
       "      <td>148</td>\n",
       "      <td>72</td>\n",
       "      <td>0.595502</td>\n",
       "      <td>0.417468</td>\n",
       "      <td>33.6</td>\n",
       "      <td>0.234415</td>\n",
       "      <td>50</td>\n",
       "    </tr>\n",
       "    <tr>\n",
       "      <th>1</th>\n",
       "      <td>1</td>\n",
       "      <td>85</td>\n",
       "      <td>66</td>\n",
       "      <td>0.523317</td>\n",
       "      <td>0.417468</td>\n",
       "      <td>26.6</td>\n",
       "      <td>0.116567</td>\n",
       "      <td>31</td>\n",
       "    </tr>\n",
       "    <tr>\n",
       "      <th>2</th>\n",
       "      <td>8</td>\n",
       "      <td>183</td>\n",
       "      <td>64</td>\n",
       "      <td>0.392087</td>\n",
       "      <td>0.417468</td>\n",
       "      <td>23.3</td>\n",
       "      <td>0.253629</td>\n",
       "      <td>32</td>\n",
       "    </tr>\n",
       "    <tr>\n",
       "      <th>3</th>\n",
       "      <td>1</td>\n",
       "      <td>89</td>\n",
       "      <td>66</td>\n",
       "      <td>0.434968</td>\n",
       "      <td>0.457607</td>\n",
       "      <td>28.1</td>\n",
       "      <td>0.038002</td>\n",
       "      <td>21</td>\n",
       "    </tr>\n",
       "    <tr>\n",
       "      <th>4</th>\n",
       "      <td>0</td>\n",
       "      <td>137</td>\n",
       "      <td>40</td>\n",
       "      <td>0.595502</td>\n",
       "      <td>0.600411</td>\n",
       "      <td>43.1</td>\n",
       "      <td>0.943638</td>\n",
       "      <td>33</td>\n",
       "    </tr>\n",
       "  </tbody>\n",
       "</table>\n",
       "</div>"
      ],
      "text/plain": [
       "   Pregnancies  Glucose  BloodPressure  SkinThickness   Insulin   BMI  \\\n",
       "0            6      148             72       0.595502  0.417468  33.6   \n",
       "1            1       85             66       0.523317  0.417468  26.6   \n",
       "2            8      183             64       0.392087  0.417468  23.3   \n",
       "3            1       89             66       0.434968  0.457607  28.1   \n",
       "4            0      137             40       0.595502  0.600411  43.1   \n",
       "\n",
       "   DiabetesPedigreeFunction  Age  \n",
       "0                  0.234415   50  \n",
       "1                  0.116567   31  \n",
       "2                  0.253629   32  \n",
       "3                  0.038002   21  \n",
       "4                  0.943638   33  "
      ]
     },
     "metadata": {},
     "output_type": "display_data"
    }
   ],
   "source": [
    "from sklearn.preprocessing import MinMaxScaler\n",
    "\n",
    "#Initializing the scaler\n",
    "scaler = MinMaxScaler()\n",
    "numerical = ['SkinThickness','Insulin','DiabetesPedigreeFunction']\n",
    "\n",
    "features_log_min_max_transformed = pd.DataFrame(data = features_log_transformed)\n",
    "features_log_min_max_transformed[numerical] = scaler.fit_transform(features_log_transformed[numerical])\n",
    "\n",
    "#Example for displaying\n",
    "display(features_log_min_max_transformed.head(5))\n",
    "features_final = features_log_min_max_transformed"
   ]
  },
  {
   "cell_type": "code",
   "execution_count": 31,
   "id": "ca490d4d",
   "metadata": {},
   "outputs": [
    {
     "name": "stdout",
     "output_type": "stream",
     "text": [
      "No of data in traninig dataset is 614\n",
      "No of data in testing dataset is 154\n"
     ]
    }
   ],
   "source": [
    "from sklearn.model_selection import train_test_split\n",
    "\n",
    "x_train,x_test,y_train,y_test = train_test_split(features_final , outcome_r , test_size = 0.2 ,random_state = 42)\n",
    "\n",
    "#print the no of training and testing data\n",
    "print(\"No of data in traninig dataset is {}\".format(x_train.shape[0]))\n",
    "print(\"No of data in testing dataset is {}\".format(x_test.shape[0]))"
   ]
  },
  {
   "cell_type": "code",
   "execution_count": 32,
   "id": "98d76224",
   "metadata": {},
   "outputs": [],
   "source": [
    "from time import time\n",
    "from sklearn.metrics import fbeta_score , accuracy_score\n",
    "\n",
    "def fit_train_predict(learner, sample_size, x_train, x_test, y_train, y_test):\n",
    "    \n",
    "    result = {}\n",
    "    \n",
    "    #Start the timer and train the model on the given sample size of the data and store the timings in the result dictionary\n",
    "    start = time()\n",
    "    print(\"The timer has started\")\n",
    "    learner.fit(x_train[:sample_size],y_train[:sample_size])\n",
    "    stop = time()\n",
    "    print(\"The time has stopped\")\n",
    "    result['train_time'] = stop - start\n",
    "    \n",
    "    #Start the timer and train the model on the given sample size of the data and store the timings in the result dictionary\n",
    "    \n",
    "    start = time()\n",
    "    print(\"The timer has started\")\n",
    "    predictions_test = learner.predict(x_test)\n",
    "    predictions_train = learner.predict(x_train[:300]) #predicting the first 300 datapoints in the data\n",
    "    stop = time()\n",
    "    print(\"The time has stopped\")\n",
    "    result['pred_time'] = stop - start\n",
    "    \n",
    "    #compute accuracy on the first 300 datapoints / samples\n",
    "    result['acc_train'] = accuracy_score(y_train[:300],predictions_train)\n",
    "    print(\"The accuracy score for training data of 300 sample points is : {}\".format(result['acc_train']))\n",
    "    \n",
    "    #compute accuracy on the test data\n",
    "    result['acc_test'] = accuracy_score(y_test,predictions_test)\n",
    "    print(\"The accuracy score for testing data is : {}\".format(result['acc_test']))\n",
    "          \n",
    "    \n",
    "    #compute fscore on the training data\n",
    "    result['f_train'] = fbeta_score(y_train[:300], predictions_train, pos_label = 1, average = \"binary\",beta = 0.5)\n",
    "    print(\"The f score for training data of 300 sample points is : {}\".format(result['f_train']))\n",
    "    \n",
    "    #compute f2score on the testing data\n",
    "    result['f_test'] = fbeta_score(y_test, predictions_test, pos_label = 1, average = \"binary\",beta = 0.5)\n",
    "    print(\"The f score for testing data is : {}\".format(result['f_test']))\n",
    "    \n",
    "    print(\"Learner {} trained {} samples successfully\".format(learner.__class__.__name__,sample_size))\n",
    "    \n",
    "    return results    "
   ]
  },
  {
   "cell_type": "code",
   "execution_count": 33,
   "id": "90f6ab7e",
   "metadata": {},
   "outputs": [
    {
     "name": "stdout",
     "output_type": "stream",
     "text": [
      "Requirement already satisfied: xgboost in c:\\pyver\\py311\\lib\\site-packages (2.0.2)\n",
      "Requirement already satisfied: numpy in c:\\pyver\\py311\\lib\\site-packages (from xgboost) (1.26.2)\n",
      "Requirement already satisfied: scipy in c:\\pyver\\py311\\lib\\site-packages (from xgboost) (1.11.4)\n"
     ]
    },
    {
     "name": "stderr",
     "output_type": "stream",
     "text": [
      "\n",
      "[notice] A new release of pip is available: 23.3.1 -> 23.3.2\n",
      "[notice] To update, run: python.exe -m pip install --upgrade pip\n"
     ]
    }
   ],
   "source": [
    "!pip install xgboost"
   ]
  },
  {
   "cell_type": "code",
   "execution_count": 34,
   "id": "ff1e4060",
   "metadata": {},
   "outputs": [
    {
     "name": "stdout",
     "output_type": "stream",
     "text": [
      "The timer has started\n",
      "The time has stopped\n",
      "The timer has started\n",
      "The time has stopped\n",
      "The accuracy score for training data of 300 sample points is : 0.5133333333333333\n",
      "The accuracy score for testing data is : 0.461038961038961\n",
      "The f score for training data of 300 sample points is : 0.3736920777279522\n",
      "The f score for testing data is : 0.3342618384401114\n",
      "Learner LogisticRegression trained 6 samples successfully\n",
      "The timer has started\n",
      "The time has stopped\n",
      "The timer has started\n",
      "The time has stopped\n",
      "The accuracy score for training data of 300 sample points is : 0.73\n",
      "The accuracy score for testing data is : 0.6948051948051948\n",
      "The f score for training data of 300 sample points is : 0.6129032258064516\n",
      "The f score for testing data is : 0.5719557195571956\n",
      "Learner LogisticRegression trained 61 samples successfully\n",
      "The timer has started\n"
     ]
    },
    {
     "name": "stderr",
     "output_type": "stream",
     "text": [
      "C:\\Users\\KK COMPUTERS\\anaconda3\\lib\\site-packages\\sklearn\\linear_model\\_logistic.py:458: ConvergenceWarning: lbfgs failed to converge (status=1):\n",
      "STOP: TOTAL NO. of ITERATIONS REACHED LIMIT.\n",
      "\n",
      "Increase the number of iterations (max_iter) or scale the data as shown in:\n",
      "    https://scikit-learn.org/stable/modules/preprocessing.html\n",
      "Please also refer to the documentation for alternative solver options:\n",
      "    https://scikit-learn.org/stable/modules/linear_model.html#logistic-regression\n",
      "  n_iter_i = _check_optimize_result(\n",
      "C:\\Users\\KK COMPUTERS\\anaconda3\\lib\\site-packages\\sklearn\\linear_model\\_logistic.py:458: ConvergenceWarning: lbfgs failed to converge (status=1):\n",
      "STOP: TOTAL NO. of ITERATIONS REACHED LIMIT.\n",
      "\n",
      "Increase the number of iterations (max_iter) or scale the data as shown in:\n",
      "    https://scikit-learn.org/stable/modules/preprocessing.html\n",
      "Please also refer to the documentation for alternative solver options:\n",
      "    https://scikit-learn.org/stable/modules/linear_model.html#logistic-regression\n",
      "  n_iter_i = _check_optimize_result(\n",
      "C:\\Users\\KK COMPUTERS\\anaconda3\\lib\\site-packages\\sklearn\\ensemble\\_base.py:166: FutureWarning: `base_estimator` was renamed to `estimator` in version 1.2 and will be removed in 1.4.\n",
      "  warnings.warn(\n",
      "C:\\Users\\KK COMPUTERS\\anaconda3\\lib\\site-packages\\sklearn\\ensemble\\_base.py:166: FutureWarning: `base_estimator` was renamed to `estimator` in version 1.2 and will be removed in 1.4.\n",
      "  warnings.warn(\n",
      "C:\\Users\\KK COMPUTERS\\anaconda3\\lib\\site-packages\\sklearn\\ensemble\\_base.py:166: FutureWarning: `base_estimator` was renamed to `estimator` in version 1.2 and will be removed in 1.4.\n",
      "  warnings.warn(\n"
     ]
    },
    {
     "name": "stdout",
     "output_type": "stream",
     "text": [
      "The time has stopped\n",
      "The timer has started\n",
      "The time has stopped\n",
      "The accuracy score for training data of 300 sample points is : 0.75\n",
      "The accuracy score for testing data is : 0.7532467532467533\n",
      "The f score for training data of 300 sample points is : 0.6458797327394209\n",
      "The f score for testing data is : 0.6545454545454545\n",
      "Learner LogisticRegression trained 614 samples successfully\n",
      "The timer has started\n",
      "The time has stopped\n",
      "The timer has started\n",
      "The time has stopped\n",
      "The accuracy score for training data of 300 sample points is : 0.6466666666666666\n",
      "The accuracy score for testing data is : 0.6168831168831169\n",
      "The f score for training data of 300 sample points is : 0.4911591355599214\n",
      "The f score for testing data is : 0.47457627118644063\n",
      "Learner AdaBoostClassifier trained 6 samples successfully\n",
      "The timer has started\n",
      "The time has stopped\n",
      "The timer has started\n",
      "The time has stopped\n",
      "The accuracy score for training data of 300 sample points is : 0.6933333333333334\n",
      "The accuracy score for testing data is : 0.6298701298701299\n",
      "The f score for training data of 300 sample points is : 0.5646630236794171\n",
      "The f score for testing data is : 0.5015673981191223\n",
      "Learner AdaBoostClassifier trained 61 samples successfully\n",
      "The timer has started\n",
      "The time has stopped\n",
      "The timer has started\n",
      "The time has stopped\n",
      "The accuracy score for training data of 300 sample points is : 1.0\n",
      "The accuracy score for testing data is : 0.6883116883116883\n",
      "The f score for training data of 300 sample points is : 1.0\n",
      "The f score for testing data is : 0.5653710247349822\n",
      "Learner AdaBoostClassifier trained 614 samples successfully\n",
      "The timer has started\n",
      "The time has stopped\n",
      "The timer has started\n",
      "The time has stopped\n",
      "The accuracy score for training data of 300 sample points is : 0.64\n",
      "The accuracy score for testing data is : 0.6493506493506493\n",
      "The f score for training data of 300 sample points is : 0.45454545454545453\n",
      "The f score for testing data is : 0.49800796812749\n",
      "Learner RandomForestClassifier trained 6 samples successfully\n",
      "The timer has started\n",
      "The time has stopped\n",
      "The timer has started\n",
      "The time has stopped\n",
      "The accuracy score for training data of 300 sample points is : 0.7966666666666666\n",
      "The accuracy score for testing data is : 0.7597402597402597\n",
      "The f score for training data of 300 sample points is : 0.7256235827664399\n",
      "The f score for testing data is : 0.6653992395437263\n",
      "Learner RandomForestClassifier trained 61 samples successfully\n",
      "The timer has started\n",
      "The time has stopped\n",
      "The timer has started\n",
      "The time has stopped\n",
      "The accuracy score for training data of 300 sample points is : 1.0\n",
      "The accuracy score for testing data is : 0.7402597402597403\n",
      "The f score for training data of 300 sample points is : 1.0\n",
      "The f score for testing data is : 0.6367041198501873\n",
      "Learner RandomForestClassifier trained 614 samples successfully\n",
      "The timer has started\n",
      "The time has stopped\n",
      "The timer has started\n",
      "The time has stopped\n",
      "The accuracy score for training data of 300 sample points is : 0.65\n",
      "The accuracy score for testing data is : 0.6428571428571429\n",
      "The f score for training data of 300 sample points is : 0.0\n",
      "The f score for testing data is : 0.0\n",
      "Learner XGBClassifier trained 6 samples successfully\n",
      "The timer has started\n",
      "The time has stopped\n",
      "The timer has started\n",
      "The time has stopped\n",
      "The accuracy score for training data of 300 sample points is : 0.79\n",
      "The accuracy score for testing data is : 0.6883116883116883\n",
      "The f score for training data of 300 sample points is : 0.7082452431289641\n",
      "The f score for testing data is : 0.5670103092783505\n",
      "Learner XGBClassifier trained 61 samples successfully\n",
      "The timer has started\n",
      "The time has stopped\n",
      "The timer has started\n",
      "The time has stopped\n",
      "The accuracy score for training data of 300 sample points is : 0.91\n",
      "The accuracy score for testing data is : 0.7402597402597403\n",
      "The f score for training data of 300 sample points is : 0.8853118712273642\n",
      "The f score for testing data is : 0.6357388316151202\n",
      "Learner XGBClassifier trained 614 samples successfully\n"
     ]
    }
   ],
   "source": [
    "from sklearn.linear_model import LogisticRegression\n",
    "from sklearn.ensemble import AdaBoostClassifier, RandomForestClassifier\n",
    "from sklearn.tree import DecisionTreeClassifier\n",
    "from xgboost import XGBClassifier\n",
    "\n",
    "\n",
    "\n",
    "clfA = LogisticRegression(random_state = 42)\n",
    "clfB = AdaBoostClassifier(base_estimator=DecisionTreeClassifier(max_depth = 5), random_state = 42)\n",
    "clfC = RandomForestClassifier(n_estimators=100)\n",
    "clfD = XGBClassifier(n_estimators=100, max_depth=3, learning_rate=0.1)\n",
    "\n",
    "#Takes 100% of the data from the training sample\n",
    "samples_100 = len(y_train)\n",
    "sample_10 = int(0.1 * len(y_train))\n",
    "sample_1 = int(0.01 * len(y_train))\n",
    "\n",
    "results = {}\n",
    "\n",
    "for clf in [clfA, clfB, clfC,clfD]:\n",
    "    clf_name = clf.__class__.__name__\n",
    "    results[clf_name] = {}\n",
    "    for i,samples in enumerate([sample_1, sample_10, samples_100]):\n",
    "        results[clf_name][i] = fit_train_predict(clf, samples, x_train, x_test, y_train, y_test)\n"
   ]
  },
  {
   "cell_type": "code",
   "execution_count": 35,
   "id": "c845e7fe",
   "metadata": {},
   "outputs": [
    {
     "name": "stdout",
     "output_type": "stream",
     "text": [
      "XGB\n",
      "Unoptimised model accuracy: 0.7142857142857143\n",
      "Unoptimised model f1 score: 0.6037151702786377\n",
      "optimised model accuracy: 0.7662337662337663\n",
      "optimised model f1 score: 0.6713780918727915\n"
     ]
    }
   ],
   "source": [
    "import warnings\n",
    "warnings.filterwarnings(\"ignore\", category = UserWarning, module = \"matplotlib\")\n",
    "\n",
    "from xgboost import XGBClassifier\n",
    "from sklearn.ensemble import RandomForestClassifier\n",
    "from sklearn.model_selection import GridSearchCV\n",
    "from sklearn.metrics import make_scorer, fbeta_score, accuracy_score\n",
    "\n",
    "\n",
    "clf = XGBClassifier(random_state = 42)\n",
    "clf2 = RandomForestClassifier(random_state = 42)\n",
    "\n",
    "parameters = {'n_estimators':[20, 40, 60, 80, 100],'max_depth':[3, 6, 9, 12, 15]}\n",
    "\n",
    "scorer = make_scorer(fbeta_score, beta = 0.5)\n",
    "acc_scorer = make_scorer(accuracy_score)\n",
    "\n",
    "grid_obj = GridSearchCV(clf2, parameters, scoring = scorer)\n",
    "\n",
    "grid_fit = grid_obj.fit(x_train,y_train)\n",
    "\n",
    "best_clf = grid_fit.best_estimator_\n",
    "\n",
    "predictions = clf.fit(x_train, np.array(y_train)).predict(x_test)\n",
    "\n",
    "best_predictions = best_clf.predict(x_test)\n",
    "\n",
    "print(\"XGB\")\n",
    "print(\"Unoptimised model accuracy: {}\".format(accuracy_score(y_test,predictions)))\n",
    "print(\"Unoptimised model f1 score: {}\".format(fbeta_score(y_test,predictions, beta = 0.5)))\n",
    "print(\"optimised model accuracy: {}\".format(accuracy_score(y_test,best_predictions)))\n",
    "print(\"optimised model f1 score: {}\".format(fbeta_score(y_test,best_predictions, beta = 0.5)))"
   ]
  },
  {
   "cell_type": "code",
   "execution_count": 36,
   "id": "1755cf13",
   "metadata": {},
   "outputs": [],
   "source": [
    "def feature_plot(importances, x_train, y_train):\n",
    "    \n",
    "    indices = np.argsort(importances)[::-1]\n",
    "    columns = x_train.columns.values[indices[:5]]\n",
    "    values = importances[:5]\n",
    "    \n",
    "    fig = plt.figure(figsize = (8,5))\n",
    "    plt.title(\"Normalised weights for the first five features\",fontsize = 16)\n",
    "    plt.bar(np.arange(5), values, width = 0.6, align = \"center\", color = \"#00A000\", label = \"Feature Weight\")\n",
    "    plt.bar(np.arange(5), np.cumsum(values), width = 0.2, align = \"edge\", color = \"#00A0A0\", label = \"Cumulative Feature Weight\")\n",
    "    plt.xticks(np.arange(5), columns)\n",
    "    plt.xlim((-0.5, 4.5))\n",
    "    plt.xlabel(\"Weight\",fontsize = 12)\n",
    "    plt.ylabel(\"Feature\",fontsize = 12)\n",
    "    \n",
    "    plt.legend(loc = 'upper center')\n",
    "    plt.tight_layout()\n",
    "    plt.show()"
   ]
  },
  {
   "cell_type": "code",
   "execution_count": 37,
   "id": "a3f1c5a7",
   "metadata": {},
   "outputs": [
    {
     "data": {
      "image/png": "[encoded data removed]",
      "text/plain": [
       "<Figure size 800x500 with 1 Axes>"
      ]
     },
     "metadata": {},
     "output_type": "display_data"
    }
   ],
   "source": [
    "from xgboost import XGBClassifier\n",
    "\n",
    "model = best_clf\n",
    "\n",
    "importances = model.feature_importances_\n",
    "\n",
    "feature_plot(importances, x_train, y_train)"
   ]
  },
  {
   "cell_type": "code",
   "execution_count": 38,
   "id": "aa5afa5f",
   "metadata": {},
   "outputs": [
    {
     "name": "stdout",
     "output_type": "stream",
     "text": [
      "Final model trained on full data...\n",
      "The accuracy score is 0.7662337662337663\n",
      "The F score is 0.6713780918727915\n",
      "Final model trained on reduced data...\n",
      "The accuracy score is 0.7467532467532467\n",
      "The F score is 0.6457564575645756\n"
     ]
    }
   ],
   "source": [
    "from sklearn.base import clone\n",
    "\n",
    "x_train_reduced = x_train[x_train.columns.values[(np.argsort(importances)[::-1])[:3]]]\n",
    "x_test_reduced = x_test[x_test.columns.values[(np.argsort(importances)[::-1])[:3]]]\n",
    "\n",
    "clf = (clone(best_clf)).fit(x_train_reduced,y_train)\n",
    "\n",
    "reduced_predictions = clf.predict(x_test_reduced)\n",
    "\n",
    "print(\"Final model trained on full data...\")\n",
    "print(\"The accuracy score is {}\".format(accuracy_score(y_test,best_predictions)))\n",
    "print(\"The F score is {}\".format(fbeta_score(y_test,best_predictions,beta = 0.5)))\n",
    "print(\"Final model trained on reduced data...\")\n",
    "print(\"The accuracy score is {}\".format(accuracy_score(y_test,reduced_predictions)))\n",
    "print(\"The F score is {}\".format(fbeta_score(y_test,reduced_predictions,beta = 0.5)))"
   ]
  },
  {
   "cell_type": "code",
   "execution_count": 42,
   "id": "ac7ffd58",
   "metadata": {},
   "outputs": [],
   "source": [
    "import joblib\n",
    "# Save the trained model to a file\n",
    "with open(r'D:\\Firespiko\\diabetes_prediction_app\\Saved_models\\randomfc.pkl','wb') as f1:\n",
    "    joblib.dump(clf,f1)\n"
   ]
  },
  {
   "cell_type": "code",
   "execution_count": null,
   "id": "f87f4dde",
   "metadata": {},
   "outputs": [],
   "source": []
  },
  {
   "cell_type": "code",
   "execution_count": null,
   "id": "97c195ad",
   "metadata": {},
   "outputs": [],
   "source": []
  },
  {
   "cell_type": "code",
   "execution_count": null,
   "id": "43295164",
   "metadata": {},
   "outputs": [],
   "source": []
  },
  {
   "cell_type": "code",
   "execution_count": null,
   "id": "ea47f0ef",
   "metadata": {},
   "outputs": [],
   "source": []
  }
 ],
 "metadata": {
  "kernelspec": {
   "display_name": "Python 3 (ipykernel)",
   "language": "python",
   "name": "python3"
  },
  "language_info": {
   "codemirror_mode": {
    "name": "ipython",
    "version": 3
   },
   "file_extension": ".py",
   "mimetype": "text/x-python",
   "name": "python",
   "nbconvert_exporter": "python",
   "pygments_lexer": "ipython3",
   "version": "3.10.9"
  }
 },
 "nbformat": 4,
 "nbformat_minor": 5
}
